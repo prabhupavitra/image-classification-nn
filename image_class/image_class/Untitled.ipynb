{
 "cells": [
  {
   "cell_type": "code",
   "execution_count": 2,
   "id": "0cf659f2-d67f-49d8-bc99-a5fd2f0a8731",
   "metadata": {},
   "outputs": [],
   "source": [
    "# !pip install poetry\n",
    "# !poetry new my_package"
   ]
  },
  {
   "cell_type": "code",
   "execution_count": 5,
   "id": "80595336-9ecc-4981-aad6-6c7f47a18d7f",
   "metadata": {},
   "outputs": [],
   "source": [
    "from common import image_utils"
   ]
  },
  {
   "cell_type": "code",
   "execution_count": 6,
   "id": "c4cf8ebf-ce14-4e36-94ab-8c7d08cbfa2a",
   "metadata": {},
   "outputs": [],
   "source": [
    "import re"
   ]
  },
  {
   "cell_type": "code",
   "execution_count": 6,
   "id": "55cbe95c-7472-45fc-b36d-8676fd454dab",
   "metadata": {
    "scrolled": true
   },
   "outputs": [
    {
     "name": "stdout",
     "output_type": "stream",
     "text": [
      "\n",
      "This command will guide you through creating your \u001b[34mpyproject.toml\u001b[39m config.\n",
      "\n",
      "\u001b[36mPackage name [\u001b[39m\u001b[32mwork\u001b[39m\u001b[36m]: \u001b[39m ^C\n"
     ]
    }
   ],
   "source": [
    "# !cd /home/jovyan/work\n",
    "# !poetry init\n"
   ]
  },
  {
   "cell_type": "code",
   "execution_count": null,
   "id": "cfcc84c0-b5e5-4b3c-bb39-b296e24a9078",
   "metadata": {},
   "outputs": [],
   "source": []
  },
  {
   "cell_type": "code",
   "execution_count": 7,
   "id": "56a7922f-1c07-40aa-870c-fe875ee8f1ef",
   "metadata": {},
   "outputs": [],
   "source": [
    "import re\n"
   ]
  },
  {
   "cell_type": "code",
   "execution_count": null,
   "id": "d952354a-8148-4c93-962b-dbb8061f58a0",
   "metadata": {},
   "outputs": [],
   "source": []
  }
 ],
 "metadata": {
  "kernelspec": {
   "display_name": "Python 3 (ipykernel)",
   "language": "python",
   "name": "python3"
  },
  "language_info": {
   "codemirror_mode": {
    "name": "ipython",
    "version": 3
   },
   "file_extension": ".py",
   "mimetype": "text/x-python",
   "name": "python",
   "nbconvert_exporter": "python",
   "pygments_lexer": "ipython3",
   "version": "3.11.6"
  }
 },
 "nbformat": 4,
 "nbformat_minor": 5
}
