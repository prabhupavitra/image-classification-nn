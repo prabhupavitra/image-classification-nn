{
 "cells": [
  {
   "cell_type": "code",
   "execution_count": null,
   "id": "bc6dbc40-068a-43a6-b1ef-069c56385bb2",
   "metadata": {},
   "outputs": [],
   "source": [
    "# # def build_dataset(data_path):\n",
    "# filenames = [f for f in os.listdir('/home/jovyan/work/data/weather_images/')]\n",
    "\n",
    "# filenames.sort()\n",
    "# random.seed(142)\n",
    "# random.shuffle(filenames)\n",
    "# labels = [extract_label(f) for f in filenames]\n",
    "# image_paths = [os.path.join(data_path, f) for f in filenames]\n",
    "# filenames[1:5]\n",
    "# labels[1:5]\n",
    "# image_paths[1:5]\n",
    "#     # split_1 = int(0.8 * len(filenames))\n",
    "#     # split_2 = int(0.9 * len(filenames))\n",
    "#     # train_filenames = filenames[:split_1]\n",
    "#     # dev_filenames = filenames[split_1:split_2]\n",
    "#     # test_filenames = filenames[split_2:]\n",
    "#     # # Create folders for each class within the new sets\n",
    "#     # os.makedirs(os.path.join(output_dir, 'train', class_name), exist_ok=True)\n",
    "#     # os.makedirs(os.path.join(output_dir, 'dev', class_name), exist_ok=True)\n",
    "#     # os.makedirs(os.path.join(output_dir, 'test', class_name), exist_ok=True)\n",
    "\n",
    "#     # # Move the images into the corresponding folders\n",
    "#     # for img in train_images:\n",
    "#     #     shutil.move(os.path.join(class_path, img), os.path.join(output_dir, 'train', class_name, img))\n",
    "    \n",
    "#     # for img in dev_images:\n",
    "#     #     shutil.move(os.path.join(class_path, img), os.path.join(output_dir, 'dev', class_name, img))\n",
    "    \n",
    "#     # for img in test_images:\n",
    "#     #     shutil.move(os.path.join(class_path, img), os.path.join(output_dir, 'test', class_name, img))\n"
   ]
  }
 ],
 "metadata": {
  "kernelspec": {
   "display_name": "Python 3 (ipykernel)",
   "language": "python",
   "name": "python3"
  },
  "language_info": {
   "codemirror_mode": {
    "name": "ipython",
    "version": 3
   },
   "file_extension": ".py",
   "mimetype": "text/x-python",
   "name": "python",
   "nbconvert_exporter": "python",
   "pygments_lexer": "ipython3",
   "version": "3.11.6"
  }
 },
 "nbformat": 4,
 "nbformat_minor": 5
}
