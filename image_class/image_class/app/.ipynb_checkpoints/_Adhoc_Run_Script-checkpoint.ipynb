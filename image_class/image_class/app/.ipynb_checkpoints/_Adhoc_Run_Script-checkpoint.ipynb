{
 "cells": [
  {
   "cell_type": "code",
   "execution_count": 35,
   "id": "b2c79968-4f62-45fc-b0b0-ec26b6cfa448",
   "metadata": {},
   "outputs": [
    {
     "name": "stdout",
     "output_type": "stream",
     "text": [
      "Obtaining file:///home/jovyan/work/app\n",
      "\u001b[31mERROR: file:///home/jovyan/work/app does not appear to be a Python project: neither 'setup.py' nor 'pyproject.toml' found.\u001b[0m\u001b[31m\n",
      "\u001b[0m"
     ]
    }
   ],
   "source": [
    "# !pip install jupyter_contrib_nbextensions\n"
   ]
  },
  {
   "cell_type": "code",
   "execution_count": 9,
   "id": "fa5b9aba-26cb-451f-8ac5-2280259d9eae",
   "metadata": {},
   "outputs": [
    {
     "ename": "ModuleNotFoundError",
     "evalue": "No module named 'work'",
     "output_type": "error",
     "traceback": [
      "\u001b[0;31m---------------------------------------------------------------------------\u001b[0m",
      "\u001b[0;31mModuleNotFoundError\u001b[0m                       Traceback (most recent call last)",
      "Cell \u001b[0;32mIn[9], line 1\u001b[0m\n\u001b[0;32m----> 1\u001b[0m \u001b[38;5;28;01mfrom\u001b[39;00m \u001b[38;5;21;01mwork\u001b[39;00m\u001b[38;5;21;01m.\u001b[39;00m\u001b[38;5;21;01mapp\u001b[39;00m\u001b[38;5;21;01m.\u001b[39;00m\u001b[38;5;21;01mcommon\u001b[39;00m\u001b[38;5;21;01m.\u001b[39;00m\u001b[38;5;21;01mimage_utils\u001b[39;00m \u001b[38;5;28;01mimport\u001b[39;00m extract_label\n",
      "\u001b[0;31mModuleNotFoundError\u001b[0m: No module named 'work'"
     ]
    }
   ],
   "source": [
    "from work.app.common.image_utils import extract_label"
   ]
  },
  {
   "cell_type": "code",
   "execution_count": null,
   "id": "2b5974ad-b455-42c9-b345-87622c3a0884",
   "metadata": {},
   "outputs": [],
   "source": [
    "import tensorflow as tf"
   ]
  },
  {
   "cell_type": "code",
   "execution_count": 21,
   "id": "d91a56ab-630e-4aa6-83cf-9c6ad58132f2",
   "metadata": {},
   "outputs": [
    {
     "name": "stdout",
     "output_type": "stream",
     "text": [
      "\u001b[32m[I 2025-02-13 22:47:00.761 ServerApp]\u001b[m Package notebook took 0.0000s to import\n",
      "\u001b[32m[I 2025-02-13 22:47:00.790 ServerApp]\u001b[m Package jupyter_lsp took 0.0285s to import\n",
      "\u001b[33m[W 2025-02-13 22:47:00.790 ServerApp]\u001b[m A `_jupyter_server_extension_points` function was not found in jupyter_lsp. Instead, a `_jupyter_server_extension_paths` function was found and will be used for now. This function name will be deprecated in future releases of Jupyter Server.\n",
      "\u001b[32m[I 2025-02-13 22:47:00.793 ServerApp]\u001b[m Package jupyter_server_mathjax took 0.0027s to import\n",
      "\u001b[32m[I 2025-02-13 22:47:00.804 ServerApp]\u001b[m Package jupyter_server_terminals took 0.0104s to import\n",
      "\u001b[32m[I 2025-02-13 22:47:00.804 ServerApp]\u001b[m Package jupyterlab took 0.0000s to import\n",
      "\u001b[32m[I 2025-02-13 22:47:01.303 ServerApp]\u001b[m Package jupyterlab_git took 0.0424s to import\n",
      "\u001b[32m[I 2025-02-13 22:47:01.304 ServerApp]\u001b[m Package jupyterlab_github took 0.0009s to import\n",
      "\u001b[33m[W 2025-02-13 22:47:01.304 ServerApp]\u001b[m A `_jupyter_server_extension_points` function was not found in jupyterlab_github. Instead, a `_jupyter_server_extension_paths` function was found and will be used for now. This function name will be deprecated in future releases of Jupyter Server.\n",
      "\u001b[32m[I 2025-02-13 22:47:01.310 ServerApp]\u001b[m Package nbclassic took 0.0055s to import\n",
      "\u001b[33m[W 2025-02-13 22:47:01.313 ServerApp]\u001b[m A `_jupyter_server_extension_points` function was not found in nbclassic. Instead, a `_jupyter_server_extension_paths` function was found and will be used for now. This function name will be deprecated in future releases of Jupyter Server.\n",
      "\u001b[32m[I 2025-02-13 22:47:01.313 ServerApp]\u001b[m Package nbdime took 0.0000s to import\n",
      "\u001b[32m[I 2025-02-13 22:47:01.313 ServerApp]\u001b[m Package notebook_shim took 0.0000s to import\n",
      "\u001b[33m[W 2025-02-13 22:47:01.313 ServerApp]\u001b[m A `_jupyter_server_extension_points` function was not found in notebook_shim. Instead, a `_jupyter_server_extension_paths` function was found and will be used for now. This function name will be deprecated in future releases of Jupyter Server.\n",
      "\u001b[32m[I 2025-02-13 22:47:01.315 ServerApp]\u001b[m jupyter_lsp | extension was successfully linked.\n",
      "\u001b[32m[I 2025-02-13 22:47:01.319 ServerApp]\u001b[m jupyter_server_mathjax | extension was successfully linked.\n",
      "\u001b[32m[I 2025-02-13 22:47:01.323 ServerApp]\u001b[m jupyter_server_terminals | extension was successfully linked.\n",
      "\u001b[32m[I 2025-02-13 22:47:01.328 ServerApp]\u001b[m jupyterlab | extension was successfully linked.\n",
      "\u001b[32m[I 2025-02-13 22:47:01.328 ServerApp]\u001b[m jupyterlab_git | extension was successfully linked.\n",
      "\u001b[32m[I 2025-02-13 22:47:01.328 ServerApp]\u001b[m jupyterlab_github | extension was successfully linked.\n",
      "\u001b[32m[I 2025-02-13 22:47:01.332 ServerApp]\u001b[m nbclassic | extension was successfully linked.\n",
      "\u001b[32m[I 2025-02-13 22:47:01.332 ServerApp]\u001b[m nbdime | extension was successfully linked.\n",
      "\u001b[32m[I 2025-02-13 22:47:01.337 ServerApp]\u001b[m notebook | extension was successfully linked.\n",
      "\u001b[32m[I 2025-02-13 22:47:01.538 ServerApp]\u001b[m Package jupyter_nbextensions_configurator took 0.0006s to import\n",
      "\u001b[33m[W 2025-02-13 22:47:01.538 ServerApp]\u001b[m A `_jupyter_server_extension_points` function was not found in jupyter_nbextensions_configurator. Instead, a `_jupyter_server_extension_paths` function was found and will be used for now. This function name will be deprecated in future releases of Jupyter Server.\n",
      "\u001b[32m[I 2025-02-13 22:47:01.538 ServerApp]\u001b[m jupyter_nbextensions_configurator | extension was found and enabled by notebook_shim. Consider moving the extension to Jupyter Server's extension paths.\n",
      "\u001b[32m[I 2025-02-13 22:47:01.539 ServerApp]\u001b[m jupyter_nbextensions_configurator | extension was successfully linked.\n",
      "\u001b[32m[I 2025-02-13 22:47:01.539 ServerApp]\u001b[m notebook_shim | extension was successfully linked.\n",
      "\u001b[32m[I 2025-02-13 22:47:01.598 ServerApp]\u001b[m notebook_shim | extension was successfully loaded.\n",
      "\u001b[32m[I 2025-02-13 22:47:01.600 ServerApp]\u001b[m jupyter_lsp | extension was successfully loaded.\n",
      "\u001b[32m[I 2025-02-13 22:47:01.601 ServerApp]\u001b[m [jupyter_nbextensions_configurator] enabled 0.6.4\n",
      "\u001b[32m[I 2025-02-13 22:47:01.601 ServerApp]\u001b[m jupyter_nbextensions_configurator | extension was successfully loaded.\n",
      "\u001b[32m[I 2025-02-13 22:47:01.602 ServerApp]\u001b[m jupyter_server_mathjax | extension was successfully loaded.\n",
      "\u001b[32m[I 2025-02-13 22:47:01.603 ServerApp]\u001b[m jupyter_server_terminals | extension was successfully loaded.\n",
      "\u001b[32m[I 2025-02-13 22:47:01.605 LabApp]\u001b[m JupyterLab extension loaded from /opt/conda/lib/python3.11/site-packages/jupyterlab\n",
      "\u001b[32m[I 2025-02-13 22:47:01.605 LabApp]\u001b[m JupyterLab application directory is /opt/conda/share/jupyter/lab\n",
      "\u001b[32m[I 2025-02-13 22:47:01.605 LabApp]\u001b[m Extension Manager is 'pypi'.\n",
      "\u001b[32m[I 2025-02-13 22:47:01.608 ServerApp]\u001b[m jupyterlab | extension was successfully loaded.\n",
      "\u001b[32m[I 2025-02-13 22:47:01.613 ServerApp]\u001b[m jupyterlab_git | extension was successfully loaded.\n",
      "\u001b[32m[I 2025-02-13 22:47:01.614 ServerApp]\u001b[m jupyterlab_github | extension was successfully loaded.\n",
      "\n",
      "  _   _          _      _\n",
      " | | | |_ __  __| |__ _| |_ ___\n",
      " | |_| | '_ \\/ _` / _` |  _/ -_)\n",
      "  \\___/| .__/\\__,_\\__,_|\\__\\___|\n",
      "       |_|\n",
      "                                                                           \n",
      "Read the migration plan to Notebook 7 to learn about the new features and the actions to take if you are using extensions.\n",
      "\n",
      "https://jupyter-notebook.readthedocs.io/en/latest/migrate_to_notebook7.html\n",
      "\n",
      "Please note that updating to Notebook 7 might break some of your extensions.\n",
      "\n",
      "\u001b[32m[I 2025-02-13 22:47:01.618 ServerApp]\u001b[m nbclassic | extension was successfully loaded.\n",
      "\u001b[32m[I 2025-02-13 22:47:01.783 ServerApp]\u001b[m nbdime | extension was successfully loaded.\n",
      "\u001b[32m[I 2025-02-13 22:47:01.787 ServerApp]\u001b[m notebook | extension was successfully loaded.\n",
      "\u001b[32m[I 2025-02-13 22:47:01.787 ServerApp]\u001b[m The port 8888 is already in use, trying another port.\n",
      "\u001b[32m[I 2025-02-13 22:47:01.787 ServerApp]\u001b[m Serving notebooks from local directory: /home/jovyan/work/app\n",
      "\u001b[32m[I 2025-02-13 22:47:01.787 ServerApp]\u001b[m Jupyter Server 2.8.0 is running at:\n",
      "\u001b[32m[I 2025-02-13 22:47:01.787 ServerApp]\u001b[m http://5ef3d9fe4735:8889/tree\n",
      "\u001b[32m[I 2025-02-13 22:47:01.787 ServerApp]\u001b[m     http://127.0.0.1:8889/tree\n",
      "\u001b[32m[I 2025-02-13 22:47:01.787 ServerApp]\u001b[m Use Control-C to stop this server and shut down all kernels (twice to skip confirmation).\n",
      "\u001b[32m[I 2025-02-13 22:47:02.425 ServerApp]\u001b[m Skipped non-installed server(s): bash-language-server, dockerfile-language-server-nodejs, javascript-typescript-langserver, jedi-language-server, julia-language-server, pyright, python-language-server, python-lsp-server, r-languageserver, sql-language-server, texlab, typescript-language-server, unified-language-server, vscode-css-languageserver-bin, vscode-html-languageserver-bin, vscode-json-languageserver-bin, yaml-language-server\n",
      "^C\n",
      "\u001b[32m[I 2025-02-13 22:51:17.802 ServerApp]\u001b[m interrupted\n",
      "\u001b[32m[I 2025-02-13 22:51:17.803 ServerApp]\u001b[m Serving notebooks from local directory: /home/jovyan/work/app\n",
      "    0 active kernels\n",
      "    Jupyter Server 2.8.0 is running at:\n",
      "    http://5ef3d9fe4735:8889/tree\n",
      "        http://127.0.0.1:8889/tree\n",
      "Shutdown this Jupyter server (y/[n])? \u001b[32m[I 2025-02-13 22:51:17.803 ServerApp]\u001b[m resuming operation...\n"
     ]
    }
   ],
   "source": [
    "!jupyter notebook\n"
   ]
  },
  {
   "cell_type": "code",
   "execution_count": 5,
   "id": "0b390220-1282-44e7-bdcc-41da26198ca2",
   "metadata": {},
   "outputs": [],
   "source": [
    "# import os\n",
    "# print(os.getcwd()) # /home/jovyan/work/app\n",
    "import sys\n",
    "sys.path.append('/home/jovyan/work')\n"
   ]
  },
  {
   "cell_type": "markdown",
   "id": "ea3d787c-f13e-4312-894a-09a44f423961",
   "metadata": {},
   "source": [
    "#### 1. Image Pre-processing"
   ]
  },
  {
   "cell_type": "code",
   "execution_count": null,
   "id": "d37f34c8-a695-4167-8421-8702a8c9a035",
   "metadata": {},
   "outputs": [],
   "source": [
    "# Set data path\n",
    "og_images_path = '/home/jovyan/work/data/weather_images/'\n",
    "output_path = \n",
    "# utils_path = '/home/jovyan/work/common/'"
   ]
  },
  {
   "cell_type": "code",
   "execution_count": null,
   "id": "8fa115cc-10eb-4011-a677-a68abbce5bb6",
   "metadata": {},
   "outputs": [],
   "source": [
    "# # Load required libraries\n",
    "# import numpy as np\n",
    "# import pandas as pd\n",
    "# from keras.models import Sequential\n",
    "# from keras import optimizers\n",
    "# from keras.utils import np_utils\n",
    "# from keras.models import Sequential\n",
    "# from keras.layers import Dense, Conv2D, Embedding, Activation, MaxPooling2D, Dropout\n",
    "# from keras.layers import Flatten, LSTM, ZeroPadding2D, BatchNormalization, MaxPooling2D\n",
    "\n",
    "# %matplotlib inline\n",
    "# import matplotlib.pyplot as plt"
   ]
  },
  {
   "cell_type": "code",
   "execution_count": null,
   "id": "1e615332-d95f-4dcc-913c-3d0e243ccaec",
   "metadata": {},
   "outputs": [],
   "source": [
    "# # Question 1: Use skimage to load your “iguana.jpg” and display it in your notebook.\n",
    "# from skimage.measure import compare_ssim as ssim\n",
    "# from skimage import io\n",
    "# from skimage.transform import resize\n",
    "\n",
    "# # Loading the image\n",
    "# ###START CODE HERE ###\n",
    "\n",
    "# ###END CODE HERE ###"
   ]
  },
  {
   "cell_type": "code",
   "execution_count": null,
   "id": "4b661e45-309c-404f-89b7-23635b469701",
   "metadata": {},
   "outputs": [],
   "source": [
    "image_paths = [os.path.join('/home/jovyan/work/data/weather_images/', f) for f in os.listdir('/home/jovyan/work/data/weather_images/')]\n",
    "labels = [extract_label(path) for path in image_paths]  # For example, class labels\n"
   ]
  }
 ],
 "metadata": {
  "kernelspec": {
   "display_name": "Python 3 (ipykernel)",
   "language": "python",
   "name": "python3"
  },
  "language_info": {
   "codemirror_mode": {
    "name": "ipython",
    "version": 3
   },
   "file_extension": ".py",
   "mimetype": "text/x-python",
   "name": "python",
   "nbconvert_exporter": "python",
   "pygments_lexer": "ipython3",
   "version": "3.11.6"
  }
 },
 "nbformat": 4,
 "nbformat_minor": 5
}
